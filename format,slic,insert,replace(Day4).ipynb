{
 "cells": [
  {
   "cell_type": "code",
   "execution_count": 1,
   "id": "28a3d06c",
   "metadata": {},
   "outputs": [
    {
     "name": "stdout",
     "output_type": "stream",
     "text": [
      "hello, he is 12 years old\n"
     ]
    }
   ],
   "source": [
    "age=12\n",
    "txt=\"hello, he is {} years old\"\n",
    "print(txt.format(age))"
   ]
  },
  {
   "cell_type": "code",
   "execution_count": 4,
   "id": "8e30686f",
   "metadata": {},
   "outputs": [
    {
     "name": "stdout",
     "output_type": "stream",
     "text": [
      "hello, he is 12 years old and she 10 and 8\n"
     ]
    }
   ],
   "source": [
    "a=12\n",
    "b=10\n",
    "c=8\n",
    "txt=\"hello, he is {} years old and she {} and {}\"\n",
    "print(txt.format(a,b,c))"
   ]
  },
  {
   "cell_type": "code",
   "execution_count": 6,
   "id": "e79bd7f9",
   "metadata": {},
   "outputs": [
    {
     "name": "stdout",
     "output_type": "stream",
     "text": [
      "['a', '4', 'false']\n",
      "<class 'list'>\n"
     ]
    }
   ],
   "source": [
    "list=[\"a\",\"4\",\"false\"]\n",
    "print(list)\n",
    "print(type(list))"
   ]
  },
  {
   "cell_type": "code",
   "execution_count": 15,
   "id": "1065967f",
   "metadata": {},
   "outputs": [
    {
     "name": "stdout",
     "output_type": "stream",
     "text": [
      "3\n"
     ]
    }
   ],
   "source": [
    "thislist = [\"apple\",\"banana\",\"cherry\"]\n",
    "print(len(thislist))"
   ]
  },
  {
   "cell_type": "code",
   "execution_count": 16,
   "id": "82f1b028",
   "metadata": {},
   "outputs": [
    {
     "name": "stdout",
     "output_type": "stream",
     "text": [
      "[True, False, True]\n"
     ]
    }
   ],
   "source": [
    "l1=[\"apple\",\"banana\",\"cherry\"]\n",
    "l2=[1,2,3,4]\n",
    "l3=[True,False,True]\n",
    "print(l3)"
   ]
  },
  {
   "cell_type": "code",
   "execution_count": 20,
   "id": "1d88794c",
   "metadata": {},
   "outputs": [
    {
     "ename": "TypeError",
     "evalue": "'index' is an invalid keyword argument for print()",
     "output_type": "error",
     "traceback": [
      "\u001b[1;31m---------------------------------------------------------------------------\u001b[0m",
      "\u001b[1;31mTypeError\u001b[0m                                 Traceback (most recent call last)",
      "\u001b[1;32m~\\AppData\\Local\\Temp\\ipykernel_17352\\285738639.py\u001b[0m in \u001b[0;36m<module>\u001b[1;34m\u001b[0m\n\u001b[0;32m      2\u001b[0m \u001b[0ml2\u001b[0m\u001b[1;33m=\u001b[0m\u001b[1;33m[\u001b[0m\u001b[1;36m1\u001b[0m\u001b[1;33m,\u001b[0m\u001b[1;36m2\u001b[0m\u001b[1;33m,\u001b[0m\u001b[1;36m3\u001b[0m\u001b[1;33m,\u001b[0m\u001b[1;36m4\u001b[0m\u001b[1;33m]\u001b[0m\u001b[1;33m\u001b[0m\u001b[1;33m\u001b[0m\u001b[0m\n\u001b[0;32m      3\u001b[0m \u001b[0ml3\u001b[0m\u001b[1;33m=\u001b[0m\u001b[1;33m[\u001b[0m\u001b[1;32mTrue\u001b[0m\u001b[1;33m,\u001b[0m\u001b[1;32mFalse\u001b[0m\u001b[1;33m,\u001b[0m\u001b[1;32mTrue\u001b[0m\u001b[1;33m]\u001b[0m\u001b[1;33m\u001b[0m\u001b[1;33m\u001b[0m\u001b[0m\n\u001b[1;32m----> 4\u001b[1;33m \u001b[0mprint\u001b[0m\u001b[1;33m(\u001b[0m\u001b[0ml3\u001b[0m\u001b[1;33m,\u001b[0m\u001b[0mindex\u001b[0m\u001b[1;33m=\u001b[0m\u001b[1;36m2\u001b[0m\u001b[1;33m)\u001b[0m\u001b[1;33m\u001b[0m\u001b[1;33m\u001b[0m\u001b[0m\n\u001b[0m",
      "\u001b[1;31mTypeError\u001b[0m: 'index' is an invalid keyword argument for print()"
     ]
    }
   ],
   "source": [
    "l1=[\"apple\",\"banana\",\"cherry\"]\n",
    "l2=[1,2,3,4]\n",
    "l3=[True,False,True]\n",
    "print("
   ]
  },
  {
   "cell_type": "code",
   "execution_count": 21,
   "id": "cb46365b",
   "metadata": {},
   "outputs": [
    {
     "name": "stdout",
     "output_type": "stream",
     "text": [
      "cherry\n"
     ]
    }
   ],
   "source": [
    "thislist = [\"apple\",\"banana\",\"cherry\"]\n",
    "print(thislist[-1])"
   ]
  },
  {
   "cell_type": "code",
   "execution_count": 22,
   "id": "ae33b354",
   "metadata": {},
   "outputs": [
    {
     "data": {
      "text/plain": [
       "[1, 2, 3, 4, 5, 6, 7, 8, 9, 10]"
      ]
     },
     "execution_count": 22,
     "metadata": {},
     "output_type": "execute_result"
    }
   ],
   "source": [
    "a=[1,2,3,4,5,6,7,8,9,10]\n",
    "a"
   ]
  },
  {
   "cell_type": "code",
   "execution_count": 51,
   "id": "77694a7f",
   "metadata": {},
   "outputs": [
    {
     "name": "stdout",
     "output_type": "stream",
     "text": [
      "[3]\n"
     ]
    }
   ],
   "source": [
    "a=[1,2,3,4,5,6,7,8,9,10]\n",
    "print(a[2:6:9])"
   ]
  },
  {
   "cell_type": "code",
   "execution_count": 28,
   "id": "70e529d1",
   "metadata": {},
   "outputs": [
    {
     "name": "stdout",
     "output_type": "stream",
     "text": [
      "[10, 9, 8, 7, 6, 5, 4, 3, 2, 1]\n"
     ]
    }
   ],
   "source": [
    "a=[1,2,3,4,5,6,7,8,9,10]\n",
    "print(a[::-1])"
   ]
  },
  {
   "cell_type": "code",
   "execution_count": 43,
   "id": "0a65ddbf",
   "metadata": {},
   "outputs": [
    {
     "name": "stdout",
     "output_type": "stream",
     "text": [
      "3 6 9\n"
     ]
    }
   ],
   "source": [
    "a=[1,2,3,4,5,6,7,8,9,10]\n",
    "print(3,6,9)"
   ]
  },
  {
   "cell_type": "code",
   "execution_count": 54,
   "id": "dbabc09f",
   "metadata": {},
   "outputs": [
    {
     "name": "stdout",
     "output_type": "stream",
     "text": [
      "[3, 6, 9]\n",
      "18\n"
     ]
    }
   ],
   "source": [
    "a=[1,2,3,4,5,6,7,8,9,10]\n",
    "print(a[2::3])\n",
    "print(sum(a[2::3]))"
   ]
  },
  {
   "cell_type": "markdown",
   "id": "077156ac",
   "metadata": {},
   "source": [
    "# insert"
   ]
  },
  {
   "cell_type": "code",
   "execution_count": 56,
   "id": "8bef02f8",
   "metadata": {},
   "outputs": [
    {
     "name": "stdout",
     "output_type": "stream",
     "text": [
      "['suchy', 'adhya', 'vaish', 'shiv']\n"
     ]
    }
   ],
   "source": [
    "A=[\"suchy\",\"vaish\",\"shiv\"]\n",
    "A.insert(1,\"adhya\")\n",
    "print(A)"
   ]
  },
  {
   "cell_type": "code",
   "execution_count": 63,
   "id": "3d67a220",
   "metadata": {},
   "outputs": [
    {
     "name": "stdout",
     "output_type": "stream",
     "text": [
      "['hii', 'hello', 'hai', 'hey']\n"
     ]
    }
   ],
   "source": [
    "list=[\"hii\",\"hello\",\"hey\"]\n",
    "list.insert(2,\"hai\")\n",
    "print(list)"
   ]
  },
  {
   "cell_type": "markdown",
   "id": "3edf361c",
   "metadata": {},
   "source": [
    "# replace"
   ]
  },
  {
   "cell_type": "code",
   "execution_count": null,
   "id": "0fee4d8c",
   "metadata": {},
   "outputs": [],
   "source": [
    "B=[\"cat\",\"dog\",\"pig\",\"cow\"]\n",
    "B[1]=\"monkey\"\n",
    "print(B)"
   ]
  },
  {
   "cell_type": "markdown",
   "id": "edee934f",
   "metadata": {},
   "source": [
    "# replacing 2 values"
   ]
  },
  {
   "cell_type": "code",
   "execution_count": 64,
   "id": "1e365ce6",
   "metadata": {},
   "outputs": [
    {
     "name": "stdout",
     "output_type": "stream",
     "text": [
      "['cat', 'monkey', 'donkey', 'pig', 'cow']\n"
     ]
    }
   ],
   "source": [
    "B=[\"cat\",\"dog\",\"pig\",\"cow\"]\n",
    "B[1:2]=[\"monkey\",\"donkey\"]\n",
    "print(B)"
   ]
  },
  {
   "cell_type": "markdown",
   "id": "4946e2e2",
   "metadata": {},
   "source": [
    "# append"
   ]
  },
  {
   "cell_type": "code",
   "execution_count": 67,
   "id": "9094e24b",
   "metadata": {},
   "outputs": [
    {
     "name": "stdout",
     "output_type": "stream",
     "text": [
      "['cat', 'dog', 'pig', 'cow', 'monkey']\n"
     ]
    }
   ],
   "source": [
    "B=[\"cat\",\"dog\",\"pig\",\"cow\"]\n",
    "B.append(\"monkey\")\n",
    "print(B)"
   ]
  },
  {
   "cell_type": "markdown",
   "id": "ef3a57c5",
   "metadata": {},
   "source": [
    "# extend"
   ]
  },
  {
   "cell_type": "code",
   "execution_count": 68,
   "id": "6f67f177",
   "metadata": {},
   "outputs": [
    {
     "name": "stdout",
     "output_type": "stream",
     "text": [
      "['suchy', 'vaish', 'shiv', 'cat', 'dog', 'pig']\n"
     ]
    }
   ],
   "source": [
    "# The extend() method does not have\n",
    "\n",
    "\n",
    "A=[\"suchy\",\"vaish\",\"shiv\"]\n",
    "B=[\"cat\",\"dog\",\"pig\"]\n",
    "A.extend(B)\n",
    "print(A)"
   ]
  },
  {
   "cell_type": "code",
   "execution_count": 69,
   "id": "ff7830ec",
   "metadata": {},
   "outputs": [
    {
     "name": "stdout",
     "output_type": "stream",
     "text": [
      "['cat', 'pig', 'cow']\n"
     ]
    }
   ],
   "source": [
    "B=[\"cat\",\"dog\",\"pig\",\"cow\"]\n",
    "B.remove(\"dog\")\n",
    "print(B)"
   ]
  },
  {
   "cell_type": "code",
   "execution_count": 70,
   "id": "6eccb19a",
   "metadata": {},
   "outputs": [
    {
     "name": "stdout",
     "output_type": "stream",
     "text": [
      "['cat', 'pig', 'cow']\n"
     ]
    }
   ],
   "source": [
    "B=[\"cat\",\"dog\",\"pig\",\"cow\"]\n",
    "B.pop(1)\n",
    "print(B)"
   ]
  },
  {
   "cell_type": "code",
   "execution_count": 72,
   "id": "778c22c2",
   "metadata": {},
   "outputs": [
    {
     "name": "stdout",
     "output_type": "stream",
     "text": [
      "['dog', 'pig', 'cow']\n"
     ]
    }
   ],
   "source": [
    "B=[\"cat\",\"dog\",\"pig\",\"cow\"]\n",
    "del B[0]\n",
    "print(B)"
   ]
  },
  {
   "cell_type": "code",
   "execution_count": 74,
   "id": "e123a145",
   "metadata": {},
   "outputs": [
    {
     "name": "stdout",
     "output_type": "stream",
     "text": [
      "[]\n"
     ]
    }
   ],
   "source": [
    "B=[\"cat\",\"dog\",\"pig\",\"cow\"]\n",
    "B.clear()\n",
    "print(B)"
   ]
  },
  {
   "cell_type": "code",
   "execution_count": 75,
   "id": "26e907a2",
   "metadata": {},
   "outputs": [
    {
     "name": "stdout",
     "output_type": "stream",
     "text": [
      "cat\n",
      "dog\n",
      "pig\n",
      "cow\n"
     ]
    }
   ],
   "source": [
    "B=[\"cat\",\"dog\",\"pig\",\"cow\"]\n",
    "for x in B:\n",
    "    print(x)"
   ]
  },
  {
   "cell_type": "code",
   "execution_count": 76,
   "id": "83ff303d",
   "metadata": {},
   "outputs": [
    {
     "name": "stdout",
     "output_type": "stream",
     "text": [
      "cat\n",
      "dog\n",
      "pig\n",
      "cow\n"
     ]
    }
   ],
   "source": [
    "B=[\"cat\",\"dog\",\"pig\",\"cow\"]\n",
    "i=0\n",
    "while i<len(B):\n",
    "    print(B[i])\n",
    "    i=i+1"
   ]
  },
  {
   "cell_type": "code",
   "execution_count": 77,
   "id": "5d9adcfb",
   "metadata": {},
   "outputs": [
    {
     "name": "stdout",
     "output_type": "stream",
     "text": [
      "cat\n",
      "pig\n"
     ]
    }
   ],
   "source": [
    "B=[\"cat\",\"dog\",\"pig\",\"cow\"]\n",
    "i=0\n",
    "while i<len(B):\n",
    "    print(B[i])\n",
    "    i=i+2"
   ]
  },
  {
   "cell_type": "code",
   "execution_count": 78,
   "id": "87ba7510",
   "metadata": {},
   "outputs": [
    {
     "name": "stdout",
     "output_type": "stream",
     "text": [
      "cat\n",
      "cow\n"
     ]
    }
   ],
   "source": [
    "B=[\"cat\",\"dog\",\"pig\",\"cow\"]\n",
    "i=0\n",
    "while i<len(B):\n",
    "    print(B[i])\n",
    "    i=i+3"
   ]
  },
  {
   "cell_type": "code",
   "execution_count": null,
   "id": "7cd06120",
   "metadata": {},
   "outputs": [],
   "source": []
  },
  {
   "cell_type": "code",
   "execution_count": null,
   "id": "28395639",
   "metadata": {},
   "outputs": [],
   "source": []
  }
 ],
 "metadata": {
  "kernelspec": {
   "display_name": "Python 3 (ipykernel)",
   "language": "python",
   "name": "python3"
  },
  "language_info": {
   "codemirror_mode": {
    "name": "ipython",
    "version": 3
   },
   "file_extension": ".py",
   "mimetype": "text/x-python",
   "name": "python",
   "nbconvert_exporter": "python",
   "pygments_lexer": "ipython3",
   "version": "3.9.13"
  }
 },
 "nbformat": 4,
 "nbformat_minor": 5
}
