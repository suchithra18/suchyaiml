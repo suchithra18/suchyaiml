{
 "cells": [
  {
   "cell_type": "code",
   "execution_count": 19,
   "id": "e6313dae",
   "metadata": {},
   "outputs": [
    {
     "name": "stdout",
     "output_type": "stream",
     "text": [
      "apple\n",
      "cherry\n"
     ]
    }
   ],
   "source": [
    "thistuple=(\"apple\",\"banana\",\"cherry\")\n",
    "i=0\n",
    "while i<len(thistuple):\n",
    "    print(thistuple[i])\n",
    "    i=i+2"
   ]
  },
  {
   "cell_type": "code",
   "execution_count": 20,
   "id": "4f6dbfd8",
   "metadata": {},
   "outputs": [
    {
     "name": "stdout",
     "output_type": "stream",
     "text": [
      "('cherry', 'orange', 'kiwi')\n"
     ]
    }
   ],
   "source": [
    "thistuple=(\"apple\",\"banana\",\"cherry\",\"orange\",\"kiwi\",\"melon\",\"mango\")\n",
    "print(thistuple[2:5])"
   ]
  },
  {
   "cell_type": "code",
   "execution_count": 21,
   "id": "078c814b",
   "metadata": {},
   "outputs": [
    {
     "name": "stdout",
     "output_type": "stream",
     "text": [
      "('banana', 'cherry', 'orange', 'kiwi', 'melon')\n"
     ]
    }
   ],
   "source": [
    "thistuple=(\"apple\",\"banana\",\"cherry\",\"orange\",\"kiwi\",\"melon\",\"mango\")\n",
    "print(thistuple[1:6])"
   ]
  },
  {
   "cell_type": "code",
   "execution_count": 22,
   "id": "1db41f3d",
   "metadata": {},
   "outputs": [
    {
     "name": "stdout",
     "output_type": "stream",
     "text": [
      "('orange', 'kiwi', 'melon')\n"
     ]
    }
   ],
   "source": [
    "thistuple=(\"apple\",\"banana\",\"cherry\",\"orange\",\"kiwi\",\"melon\",\"mango\")\n",
    "print(thistuple[-4:-1])"
   ]
  },
  {
   "cell_type": "code",
   "execution_count": 23,
   "id": "b4130b8c",
   "metadata": {},
   "outputs": [
    {
     "name": "stdout",
     "output_type": "stream",
     "text": [
      "('cherry', 'orange', 'kiwi')\n"
     ]
    }
   ],
   "source": [
    "thistuple=(\"apple\",\"banana\",\"cherry\",\"orange\",\"kiwi\",\"melon\",\"mango\")\n",
    "print(thistuple[-5:-2])"
   ]
  },
  {
   "cell_type": "code",
   "execution_count": 24,
   "id": "32cd0f38",
   "metadata": {},
   "outputs": [
    {
     "name": "stdout",
     "output_type": "stream",
     "text": [
      "('apple', 'kiwi', 'cherry')\n"
     ]
    }
   ],
   "source": [
    "# Once a tuple is created, you cannot cahnge its value.tuples are unchangeable,\n",
    "\n",
    "\n",
    "x=(\"apple\",\"banana\",\"cherry\")\n",
    "y=list(x)\n",
    "y[1]=\"kiwi\"\n",
    "x=tuple(y)\n",
    "print(x)"
   ]
  },
  {
   "cell_type": "code",
   "execution_count": 25,
   "id": "fe1d5387",
   "metadata": {},
   "outputs": [
    {
     "name": "stdout",
     "output_type": "stream",
     "text": [
      "('apple', 'banana', 'cherry', 'orange')\n"
     ]
    }
   ],
   "source": [
    "# convert into a list: just like the workaround for changing a tuple, you can\n",
    "\n",
    "\n",
    "thistuple=(\"apple\",\"banana\",\"cherry\")\n",
    "y=list(thistuple)\n",
    "y.append(\"orange\")\n",
    "thistuple=tuple(y)\n",
    "print(thistuple)"
   ]
  },
  {
   "cell_type": "code",
   "execution_count": 26,
   "id": "49917a65",
   "metadata": {},
   "outputs": [
    {
     "name": "stdout",
     "output_type": "stream",
     "text": [
      "('suchy', 'vaish', 'shiv', 'hrithi')\n"
     ]
    }
   ],
   "source": [
    "thistuple=(\"suchy\",\"vaish\",\"shiv\")\n",
    "y=list(thistuple)\n",
    "y.append(\"hrithi\")\n",
    "thistuple=tuple(y)\n",
    "print(thistuple)"
   ]
  },
  {
   "cell_type": "code",
   "execution_count": 27,
   "id": "677decdb",
   "metadata": {},
   "outputs": [
    {
     "name": "stdout",
     "output_type": "stream",
     "text": [
      "('apple', 'banana', 'cherry', 'orange')\n"
     ]
    }
   ],
   "source": [
    "thistuple=(\"apple\",\"banana\",\"cherry\")\n",
    "y=(\"orange\",)\n",
    "thistuple+=y\n",
    "print(thistuple)"
   ]
  },
  {
   "cell_type": "code",
   "execution_count": 29,
   "id": "706c78d5",
   "metadata": {},
   "outputs": [
    {
     "name": "stdout",
     "output_type": "stream",
     "text": [
      "('banana', 'cherry')\n"
     ]
    }
   ],
   "source": [
    "thistuple=(\"apple\",\"banana\",\"cherry\")\n",
    "y=list(thistuple)\n",
    "y.remove(\"apple\")\n",
    "thistuple=tuple(y)\n",
    "print(thistuple)"
   ]
  },
  {
   "cell_type": "code",
   "execution_count": 30,
   "id": "cb7faef6",
   "metadata": {},
   "outputs": [
    {
     "name": "stdout",
     "output_type": "stream",
     "text": [
      "Yes, 'apple' is in the fruits tuple\n"
     ]
    }
   ],
   "source": [
    "thistuple=(\"apple\",\"banana\",\"cherry\")\n",
    "if \"apple\" in thistuple:\n",
    "    print(\"Yes, 'apple' is in the fruits tuple\")"
   ]
  },
  {
   "cell_type": "code",
   "execution_count": 31,
   "id": "a229e80f",
   "metadata": {},
   "outputs": [
    {
     "name": "stdout",
     "output_type": "stream",
     "text": [
      "apple\n",
      "banana\n",
      "['cherry', 'strawberry', 'bluberry']\n"
     ]
    }
   ],
   "source": [
    " if the number of variables is less than the number of values, you can add an * to the variable name \n",
    "and the values will be assigned to the variable as a list:\n",
    "\n",
    "fruits=(\"apple\",\"banana\",\"cherry\",\"strawberry\",\"bluberry\")\n",
    "(green,yellow,*red)=fruits\n",
    "print(green)\n",
    "print(yellow)\n",
    "print(red)"
   ]
  },
  {
   "cell_type": "code",
   "execution_count": null,
   "id": "d8c4aff7",
   "metadata": {},
   "outputs": [],
   "source": []
  },
  {
   "cell_type": "code",
   "execution_count": null,
   "id": "30470ed2",
   "metadata": {},
   "outputs": [],
   "source": []
  },
  {
   "cell_type": "code",
   "execution_count": null,
   "id": "4c1c769b",
   "metadata": {},
   "outputs": [],
   "source": []
  }
 ],
 "metadata": {
  "kernelspec": {
   "display_name": "Python 3 (ipykernel)",
   "language": "python",
   "name": "python3"
  },
  "language_info": {
   "codemirror_mode": {
    "name": "ipython",
    "version": 3
   },
   "file_extension": ".py",
   "mimetype": "text/x-python",
   "name": "python",
   "nbconvert_exporter": "python",
   "pygments_lexer": "ipython3",
   "version": "3.9.13"
  }
 },
 "nbformat": 4,
 "nbformat_minor": 5
}
